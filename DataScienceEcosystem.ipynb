{
 "cells": [
  {
   "cell_type": "markdown",
   "metadata": {},
   "source": [
    "<center>\n",
    "    <img src=\"https://cf-courses-data.s3.us.cloud-object-storage.appdomain.cloud/IBMDeveloperSkillsNetwork-DS0105EN-SkillsNetwork/labs/Module2/images/SN_web_lightmode.png\" width=\"300\" alt=\"cognitiveclass.ai logo\">\n",
    "</center>\n"
   ]
  },
  {
   "cell_type": "markdown",
   "metadata": {},
   "source": [
    "#### Add your code below following the instructions given in the course\n"
   ]
  },
  {
   "cell_type": "code",
   "execution_count": 1,
   "metadata": {},
   "outputs": [],
   "source": [
    "# DATA SCIENCE TOOLS AND ECOSYSTEM"
   ]
  },
  {
   "cell_type": "code",
   "execution_count": 2,
   "metadata": {},
   "outputs": [],
   "source": [
    "# In this comprehensive notebook, we delve into the diverse landscape of Data Science Tools\n",
    "# and the broader ecosystem. From popular programming languages and essential libraries\n",
    "# to key open-source development environments, this guide aims to provide a solid\n",
    "# foundation for anyone navigating the dynamic field of data science."
   ]
  },
  {
   "cell_type": "code",
   "execution_count": 3,
   "metadata": {},
   "outputs": [],
   "source": [
    "# Overview: Data Science Languages\n",
    "\n",
    "# Some of the popular languages that Data Scientists use are:\n",
    "\n",
    "# 1.Python: Widely recognized for its simplicity and versatility, Python has become the go-to language for data \n",
    "# analysis,machine learning, and scientific computing.\n",
    "\n",
    "# 2.R: Especially favored in statistical computing, R provides powerful tools for data visualization and statistical\n",
    "# analysis, making it a staple in the data science community.\n",
    "\n",
    "# 3.SQL: While not a traditional programming language, SQL (Structured Query Language) is essential for working with\n",
    "# databases, a fundamental aspect of data science.\n",
    "\n",
    "# 4.Java: Known for its platform independence, Java is often used for big data processing and in enterprise-level\n",
    "# applications within the data science realm.\n",
    "\n"
   ]
  },
  {
   "cell_type": "code",
   "execution_count": 4,
   "metadata": {},
   "outputs": [],
   "source": [
    "# Overview: Data Science Libraries\n",
    "\n",
    "# Some of the commonly used libraries used by Data Scientists include:\n",
    "\n",
    "# 1. NumPy: A fundamental library for numerical computing in Python, providing support for large, multi-dimensional\n",
    "# arrays and matrices, along with mathematical functions.\n",
    "\n",
    "# 2. Pandas: Widely employed for data manipulation and analysis, Pandas simplifies tasks such as data cleaning,\n",
    "# transformation, and exploration through its powerful data structures.\n",
    "\n",
    "# 3. Scikit-learn: A machine learning library built on NumPy, SciPy, and Matplotlib, offering simple and efficient\n",
    "# tools for data mining and data analysis.\n",
    "\n",
    "# 4. TensorFlow: Developed by Google, TensorFlow is an open-source machine learning framework that facilitates the\n",
    "# development and training of deep learning models.\n",
    "\n",
    "\n"
   ]
  },
  {
   "cell_type": "code",
   "execution_count": 5,
   "metadata": {},
   "outputs": [],
   "source": [
    "# Data Science Tools\n",
    "\n",
    "# 1. Jupyter Notebooks   \n",
    "# 2. Apache Spark         \n",
    "# 3. RStudio    \n"
   ]
  },
  {
   "cell_type": "code",
   "execution_count": 6,
   "metadata": {
    "tags": []
   },
   "outputs": [
    {
     "data": {
      "text/plain": [
       "7"
      ]
     },
     "execution_count": 6,
     "metadata": {},
     "output_type": "execute_result"
    }
   ],
   "source": [
    "# Introduction to Arithmetic Expression Examples\n",
    "# Addition:\n",
    " # This program adds two numbers\n",
    "\n",
    "num1 = 1\n",
    "num2 = 6\n",
    "\n",
    "# Add two numbers\n",
    "sum = num1 + num2\n",
    "sum  "
   ]
  },
  {
   "cell_type": "code",
   "execution_count": 7,
   "metadata": {
    "tags": []
   },
   "outputs": [
    {
     "data": {
      "text/plain": [
       "17"
      ]
     },
     "execution_count": 7,
     "metadata": {},
     "output_type": "execute_result"
    }
   ],
   "source": [
    "# MULTIPLY AND ADD NUMBERS\n",
    "# This is a simple arithmetic expression to multiply 3 by 4 and then add 5.\n",
    "result = (3 * 4) + 5\n",
    "result\n"
   ]
  },
  {
   "cell_type": "code",
   "execution_count": 8,
   "metadata": {},
   "outputs": [],
   "source": [
    "# In this code:\n",
    "\n",
    "# The expression (3 * 4) + 5 is calculated.\n",
    "# This is a simple arithmetic expression to multiply 3 by 4 and then add 5. \n",
    "# The result is stored in the variable result, and the value of result is displayed."
   ]
  },
  {
   "cell_type": "code",
   "execution_count": 9,
   "metadata": {},
   "outputs": [
    {
     "data": {
      "text/plain": [
       "3.3333333333333335"
      ]
     },
     "execution_count": 9,
     "metadata": {},
     "output_type": "execute_result"
    }
   ],
   "source": [
    "# CONVERT MINUTES TO HOURS\n",
    "# This will convert 200 minutes to hours by dividing by 60.\n",
    "minutes = 200\n",
    "hours = minutes / 60\n",
    "hours\n"
   ]
  },
  {
   "cell_type": "code",
   "execution_count": 10,
   "metadata": {
    "tags": []
   },
   "outputs": [],
   "source": [
    "# In this code: \n",
    "\n",
    "# This will convert 200 minutes to hours by dividing by 60.\n",
    "# The variable minutes is set to 200.\n",
    "# The expression hours = minutes / 60 calculates the equivalent hours.\n",
    "# The result, which is the value of the variable hours, is displayed."
   ]
  },
  {
   "cell_type": "code",
   "execution_count": null,
   "metadata": {},
   "outputs": [],
   "source": [
    "# Objectives:\n",
    "\n",
    "# - Understand popular languages used in Data Science.\n",
    "# - Explore commonly used libraries in Data Science.\n",
    "# - Familiarize yourself with key Data Science tools.\n",
    "# - Learn to evaluate arithmetic expressions in Python.\n",
    "# - Gain insights into the overall Data Science ecosystem.\n"
   ]
  }
 ],
 "metadata": {
  "kernelspec": {
   "display_name": "Python",
   "language": "python",
   "name": "conda-env-python-py"
  },
  "language_info": {
   "codemirror_mode": {
    "name": "ipython",
    "version": 3
   },
   "file_extension": ".py",
   "mimetype": "text/x-python",
   "name": "python",
   "nbconvert_exporter": "python",
   "pygments_lexer": "ipython3",
   "version": "3.7.12"
  }
 },
 "nbformat": 4,
 "nbformat_minor": 4
}
